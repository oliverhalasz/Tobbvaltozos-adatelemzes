{
 "cells": [
  {
   "cell_type": "markdown",
   "metadata": {},
   "source": [
    "# Twitter author prediction"
   ]
  },
  {
   "cell_type": "markdown",
   "metadata": {},
   "source": [
    "## Prerequisites"
   ]
  },
  {
   "cell_type": "markdown",
   "metadata": {},
   "source": [
    "### Importing necessary libraries"
   ]
  },
  {
   "cell_type": "code",
   "execution_count": 120,
   "metadata": {},
   "outputs": [],
   "source": [
    "import random; random.seed(53)\n",
    "import pandas as pd\n",
    "\n",
    "# Import all we need from sklearn\n",
    "from sklearn.feature_extraction.text import TfidfVectorizer, CountVectorizer\n",
    "from sklearn.model_selection import train_test_split\n",
    "from sklearn.naive_bayes import MultinomialNB\n",
    "from sklearn.svm import LinearSVC, SVC\n",
    "from sklearn.linear_model import LogisticRegression\n",
    "from sklearn.tree import DecisionTreeClassifier\n",
    "from sklearn.ensemble import  BaggingClassifier\n",
    "from sklearn.model_selection import GridSearchCV\n",
    "from sklearn import metrics\n",
    "from sklearn.model_selection import cross_val_score\n",
    "import itertools\n"
   ]
  },
  {
   "cell_type": "code",
   "execution_count": 121,
   "metadata": {},
   "outputs": [],
   "source": [
    "import matplotlib.pyplot as plt\n",
    "import numpy as np\n",
    "def plot_and_return_top_features(classifier, vectorizer, top_features=20):\n",
    "    \"\"\"\n",
    "    Plot the top features in a binary classification model and remove possible overlap.\n",
    "\n",
    "    Adapted from https://medium.com/@aneesha/visualising-top-features-in-linear-svm-with-scikit-learn-and-matplotlib-3454ab18a14d\n",
    "    and https://stackoverflow.com/a/26980472 by @kjam\n",
    "    \"\"\"\n",
    "    class_labels = classifier.classes_\n",
    "    feature_names = vectorizer.get_feature_names_out()\n",
    "    topn_class1 = sorted(zip(classifier.coef_[0], feature_names))[:top_features]\n",
    "    topn_class2 = sorted(zip(classifier.coef_[0], feature_names))[-top_features:]\n",
    "    top_coefficients = np.hstack([topn_class1, topn_class2])\n",
    "    if set(topn_class1).union(topn_class2):\n",
    "        top_coefficients = topn_class1\n",
    "        for ce in topn_class2:\n",
    "            if ce not in topn_class1:\n",
    "                top_coefficients.append(ce)\n",
    "\n",
    "    plt.figure(figsize=(15, 5))\n",
    "    colors = ['red' if c < 0 else 'blue' for c in [tc[0] for tc in top_coefficients]]\n",
    "    plt.bar(np.arange(len(top_coefficients)), [tc[0] for tc in top_coefficients], color=colors)\n",
    "    plt.xticks(np.arange(len(top_coefficients)),\n",
    "               [tc[1] for tc in top_coefficients], rotation=60, ha='right')\n",
    "    plt.show()\n",
    "    return top_coefficients"
   ]
  },
  {
   "cell_type": "code",
   "execution_count": 122,
   "metadata": {},
   "outputs": [],
   "source": [
    "\n",
    "def plot_confusion_matrix(cm, classes,\n",
    "                          normalize=False,\n",
    "                          title='Confusion matrix',\n",
    "                          cmap=plt.cm.Blues,\n",
    "                          figure=0):\n",
    "    \"\"\"\n",
    "    See full source and example:\n",
    "    http://scikit-learn.org/stable/auto_examples/model_selection/plot_confusion_matrix.html\n",
    "\n",
    "    This function prints and plots the confusion matrix.\n",
    "    Normalization can be applied by setting `normalize=True`.\n",
    "    \"\"\"\n",
    "    plt.figure(figure)\n",
    "    plt.imshow(cm, interpolation='nearest', cmap=cmap)\n",
    "    plt.title(title)\n",
    "    plt.colorbar()\n",
    "    tick_marks = np.arange(len(classes))\n",
    "    plt.xticks(tick_marks, classes, rotation=45)\n",
    "    plt.yticks(tick_marks, classes)\n",
    "\n",
    "    if normalize:\n",
    "        cm = cm.astype('float') / cm.sum(axis=1)[:, np.newaxis]\n",
    "        print(\"Normalized confusion matrix\")\n",
    "    else:\n",
    "        print('Confusion matrix, without normalization')\n",
    "\n",
    "    thresh = cm.max() / 2.\n",
    "    for i, j in itertools.product(range(cm.shape[0]), range(cm.shape[1])):\n",
    "        plt.text(j, i, cm[i, j],\n",
    "                 horizontalalignment=\"center\",\n",
    "                 color=\"white\" if cm[i, j] > thresh else \"black\")\n",
    "\n",
    "    plt.tight_layout()\n",
    "    plt.ylabel('True label')\n",
    "    plt.xlabel('Predicted label')\n",
    "\n"
   ]
  },
  {
   "cell_type": "markdown",
   "metadata": {},
   "source": [
    "### Load the data"
   ]
  },
  {
   "cell_type": "code",
   "execution_count": 123,
   "metadata": {},
   "outputs": [],
   "source": [
    "# Load data\n",
    "tweet_df = pd.read_csv(\"C:/Users/Oliver/Documents/BCE/Tárgyak/9. félév/Többváltozós statisztika/tweets.csv\")"
   ]
  },
  {
   "cell_type": "markdown",
   "metadata": {},
   "source": [
    "Ez a másik adatbázis"
   ]
  },
  {
   "cell_type": "code",
   "execution_count": 124,
   "metadata": {},
   "outputs": [],
   "source": [
    "# Vakhal\n",
    "# Load data\n",
    "tweet_df = pd.read_csv(\"C:/Users/Oliver/Documents/BCE/Tárgyak/9. félév/Többváltozós statisztika/tweets_1.csv\")\n",
    "#extract the texts and the authors where the author is either HillaryClinton or realDonaldTrump\n",
    "tweet_df = tweet_df[tweet_df.is_retweet == False]\n",
    "tweet_df = tweet_df[[\"handle\", \"text\"]]\n",
    "tweet_df.columns = [\"author\", \"status\"]\n"
   ]
  },
  {
   "cell_type": "code",
   "execution_count": 125,
   "metadata": {},
   "outputs": [],
   "source": [
    "# Create target\n",
    "y = tweet_df[\"author\"]\n",
    "# Split training and testing data\n",
    "X_train, X_test, y_train, y_test = train_test_split(tweet_df[\"status\"], y,  test_size=0.2, stratify=y, random_state=42)"
   ]
  },
  {
   "cell_type": "markdown",
   "metadata": {},
   "source": [
    "## Data cleaning"
   ]
  },
  {
   "cell_type": "markdown",
   "metadata": {},
   "source": [
    "### CountVectorizer"
   ]
  },
  {
   "cell_type": "code",
   "execution_count": 126,
   "metadata": {},
   "outputs": [],
   "source": [
    "count_vectorizer = CountVectorizer(stop_words=\"english\", min_df=0.05, max_df=0.9)\n",
    "count_train = count_vectorizer.fit_transform(X_train)\n",
    "count_test = count_vectorizer.transform(X_test)"
   ]
  },
  {
   "cell_type": "markdown",
   "metadata": {},
   "source": [
    "### Tf-Idf"
   ]
  },
  {
   "cell_type": "code",
   "execution_count": 127,
   "metadata": {},
   "outputs": [],
   "source": [
    "tfidf_vectorizer = TfidfVectorizer(stop_words=\"english\", min_df=0.05, max_df=0.9)\n",
    "tfidf_train = tfidf_vectorizer.fit_transform(X_train)\n",
    "tfidf_test = tfidf_vectorizer.transform(X_test)"
   ]
  },
  {
   "cell_type": "markdown",
   "metadata": {},
   "source": [
    "## Training the models"
   ]
  },
  {
   "cell_type": "markdown",
   "metadata": {},
   "source": [
    "### Training a multinomial naive Bayes model"
   ]
  },
  {
   "cell_type": "code",
   "execution_count": 128,
   "metadata": {},
   "outputs": [
    {
     "name": "stdout",
     "output_type": "stream",
     "text": [
      "Best parameters: {'alpha': 0.0001, 'fit_prior': True}\n"
     ]
    }
   ],
   "source": [
    "# Create and fit the model for the tf-idf data\n",
    "param_grid_nb = {\n",
    "    'alpha': [0.0001, 0.001, 0.01, 0.1, 1.0, 10.0],\n",
    "    'fit_prior': [True, False],\n",
    "}\n",
    "tf_idf_nb_cv = GridSearchCV(MultinomialNB(), param_grid_nb, cv=5)\n",
    "tf_idf_nb_cv.fit(tfidf_train, y_train)\n",
    "tf_idf_nb = tf_idf_nb_cv.best_estimator_\n",
    "tf_idf_nb_pred = tf_idf_nb.predict(tfidf_test)\n",
    "print(\"Best parameters: {}\".format(tf_idf_nb_cv.best_params_))\n",
    "\n",
    "# Create and fit the model for the count data\n",
    "\n",
    "count_nb = MultinomialNB()\n",
    "\n",
    "count_nb.fit(count_train, y_train)\n",
    "count_nb_pred = count_nb.predict(count_test)"
   ]
  },
  {
   "cell_type": "markdown",
   "metadata": {},
   "source": [
    "### Training an SVM model"
   ]
  },
  {
   "cell_type": "code",
   "execution_count": 129,
   "metadata": {},
   "outputs": [
    {
     "name": "stdout",
     "output_type": "stream",
     "text": [
      "Best parameters: {'C': 0.1, 'dual': True}\n"
     ]
    }
   ],
   "source": [
    "param_grid_svc = {\n",
    "    \"C\": [0.0001, 0.001, 0.01, 0.1, 1, 10],\n",
    "    \"dual\": [True, False],\n",
    "}\n",
    "tf_idf_svc_cv = GridSearchCV(LinearSVC(), param_grid=param_grid_svc, cv=5)\n",
    "tf_idf_svc_cv.fit(tfidf_train, y_train)\n",
    "tf_idf_svc_pred = tf_idf_svc_cv.predict(tfidf_test)\n",
    "tf_idf_svc = tf_idf_svc_cv.best_estimator_\n",
    "print(\"Best parameters: {}\".format(tf_idf_svc_cv.best_params_))"
   ]
  },
  {
   "cell_type": "markdown",
   "metadata": {},
   "source": [
    "### Training a logistic regression model"
   ]
  },
  {
   "cell_type": "code",
   "execution_count": 130,
   "metadata": {},
   "outputs": [
    {
     "name": "stdout",
     "output_type": "stream",
     "text": [
      "Best parameters: {'C': 1}\n"
     ]
    }
   ],
   "source": [
    "param_grid_lr = {\n",
    "    \"C\": [0.0001, 0.001, 0.01, 0.1, 1, 10]\n",
    "}\n",
    "tf_idf_lr_cv = GridSearchCV(LogisticRegression(), param_grid=param_grid_lr, cv=5)\n",
    "tf_idf_lr_cv.fit(tfidf_train, y_train)\n",
    "tf_idf_lr = tf_idf_lr_cv.best_estimator_\n",
    "tf_idf_lr_pred = tf_idf_lr.predict(tfidf_test)\n",
    "print(\"Best parameters: {}\".format(tf_idf_lr_cv.best_params_))"
   ]
  },
  {
   "cell_type": "markdown",
   "metadata": {},
   "source": [
    "### Training a decision tree model"
   ]
  },
  {
   "cell_type": "code",
   "execution_count": 131,
   "metadata": {},
   "outputs": [
    {
     "name": "stdout",
     "output_type": "stream",
     "text": [
      "Best parameters: {'criterion': 'gini', 'max_depth': 8, 'min_samples_leaf': 1}\n"
     ]
    }
   ],
   "source": [
    "param_grid_dt = {\n",
    "    \"criterion\": [\"gini\", \"entropy\"],\n",
    "    \"max_depth\": [1, 2, 3, 4, 5, 6, 7, 8],\n",
    "    \"min_samples_leaf\": [1, 2, 3, 4, 5, 6, 7, 8]\n",
    "}\n",
    "tf_idf_dt_cv = GridSearchCV(DecisionTreeClassifier(), param_grid=param_grid_dt, cv=5)\n",
    "tf_idf_dt_cv.fit(tfidf_train, y_train)\n",
    "tf_idf_dt = tf_idf_dt_cv.best_estimator_\n",
    "tf_idf_dt_pred = tf_idf_dt.predict(tfidf_test)\n",
    "print(\"Best parameters: {}\".format(tf_idf_dt_cv.best_params_))"
   ]
  },
  {
   "cell_type": "markdown",
   "metadata": {},
   "source": [
    "### Training a random forest model"
   ]
  },
  {
   "cell_type": "code",
   "execution_count": 132,
   "metadata": {},
   "outputs": [],
   "source": [
    "tf_idf_rf = BaggingClassifier(DecisionTreeClassifier(), n_estimators=100, max_samples=0.8, max_features=0.8, random_state=42, n_jobs=-1)\n",
    "tf_idf_rf.fit(tfidf_train, y_train)\n",
    "tf_idf_rf_pred = tf_idf_rf.predict(tfidf_test)"
   ]
  },
  {
   "cell_type": "markdown",
   "metadata": {},
   "source": [
    "## Accuracy scores (for the tf-idf vectorizer)"
   ]
  },
  {
   "cell_type": "code",
   "execution_count": 133,
   "metadata": {},
   "outputs": [
    {
     "data": {
      "text/plain": [
       "['HillaryClinton', 'realDonaldTrump']"
      ]
     },
     "execution_count": 133,
     "metadata": {},
     "output_type": "execute_result"
    }
   ],
   "source": [
    "target_values = list(tf_idf_lr.classes_)\n",
    "target_values"
   ]
  },
  {
   "cell_type": "markdown",
   "metadata": {},
   "source": [
    "### Confusion matrices"
   ]
  },
  {
   "cell_type": "code",
   "execution_count": 134,
   "metadata": {},
   "outputs": [],
   "source": [
    "tf_idf_nb_cm = metrics.confusion_matrix(y_test, tf_idf_nb_pred, labels=target_values, normalize='true')\n",
    "tf_idf_svc_cm = metrics.confusion_matrix(y_test, tf_idf_svc_pred, labels=target_values, normalize='true')\n",
    "tf_idf_lr_cm = metrics.confusion_matrix(y_test, tf_idf_lr_pred, labels=target_values, normalize='true')\n",
    "tf_idf_dt_cm = metrics.confusion_matrix(y_test, tf_idf_dt_pred, labels=target_values, normalize='true')\n",
    "tf_idf_rf_cm = metrics.confusion_matrix(y_test, tf_idf_rf_pred, labels=target_values, normalize='true')"
   ]
  },
  {
   "cell_type": "code",
   "execution_count": 135,
   "metadata": {},
   "outputs": [
    {
     "data": {
      "text/plain": [
       "<sklearn.metrics._plot.confusion_matrix.ConfusionMatrixDisplay at 0x2a1e1316f50>"
      ]
     },
     "execution_count": 135,
     "metadata": {},
     "output_type": "execute_result"
    },
    {
     "data": {
      "image/png": "[encoded data removed]",
      "text/plain": [
       "<Figure size 640x480 with 2 Axes>"
      ]
     },
     "metadata": {},
     "output_type": "display_data"
    },
    {
     "data": {
      "image/png": "[encoded data removed]",
      "text/plain": [
       "<Figure size 640x480 with 2 Axes>"
      ]
     },
     "metadata": {},
     "output_type": "display_data"
    },
    {
     "data": {
      "image/png": "[encoded data removed]",
      "text/plain": [
       "<Figure size 640x480 with 2 Axes>"
      ]
     },
     "metadata": {},
     "output_type": "display_data"
    },
    {
     "data": {
      "image/png": "[encoded data removed]",
      "text/plain": [
       "<Figure size 640x480 with 2 Axes>"
      ]
     },
     "metadata": {},
     "output_type": "display_data"
    },
    {
     "data": {
      "image/png": "[encoded data removed]",
      "text/plain": [
       "<Figure size 640x480 with 2 Axes>"
      ]
     },
     "metadata": {},
     "output_type": "display_data"
    }
   ],
   "source": [
    "metrics.ConfusionMatrixDisplay(tf_idf_nb_cm, display_labels=target_values).plot()\n",
    "metrics.ConfusionMatrixDisplay(tf_idf_svc_cm, display_labels=target_values).plot()\n",
    "metrics.ConfusionMatrixDisplay(tf_idf_lr_cm, display_labels=target_values).plot()\n",
    "metrics.ConfusionMatrixDisplay(tf_idf_dt_cm, display_labels=target_values).plot()\n",
    "metrics.ConfusionMatrixDisplay(tf_idf_rf_cm, display_labels=target_values).plot()"
   ]
  },
  {
   "cell_type": "markdown",
   "metadata": {},
   "source": [
    "### Accuracy scores of the models (on the test set)"
   ]
  },
  {
   "cell_type": "code",
   "execution_count": 136,
   "metadata": {},
   "outputs": [
    {
     "name": "stdout",
     "output_type": "stream",
     "text": [
      "Naive Bayes\t\t 0.759825327510917\n",
      "SVC\t\t\t 0.7729257641921398\n",
      "Logistic Regression\t 0.77117903930131\n",
      "Decision Tree\t\t 0.7755458515283843\n",
      "Random Forest\t\t 0.7799126637554585\n"
     ]
    }
   ],
   "source": [
    "print(\"Naive Bayes\\t\\t\", tf_idf_nb.score(tfidf_test, y_test))\n",
    "print(\"SVC\\t\\t\\t\", tf_idf_svc.score(tfidf_test, y_test))\n",
    "print(\"Logistic Regression\\t\", tf_idf_lr.score(tfidf_test, y_test))\n",
    "print(\"Decision Tree\\t\\t\", tf_idf_dt.score(tfidf_test, y_test))\n",
    "print(\"Random Forest\\t\\t\", tf_idf_rf.score(tfidf_test, y_test))"
   ]
  },
  {
   "cell_type": "markdown",
   "metadata": {},
   "source": [
    "### Cross-validation (on the training set)"
   ]
  },
  {
   "cell_type": "code",
   "execution_count": 137,
   "metadata": {},
   "outputs": [
    {
     "name": "stdout",
     "output_type": "stream",
     "text": [
      "Naive Bayes:\t\t0.756175102011597\n",
      "SVC:\t\t\t0.7657854296418259\n",
      "Logistic Regression:\t0.7666597465817168\n",
      "Decision Tree:\t\t0.7747478941465626\n",
      "Random Forest:\t\tNo cross validation performed\n"
     ]
    }
   ],
   "source": [
    "print(f\"Naive Bayes:\\t\\t{tf_idf_nb_cv.best_score_}\")\n",
    "print(f\"SVC:\\t\\t\\t{tf_idf_svc_cv.best_score_}\")\n",
    "print(f\"Logistic Regression:\\t{tf_idf_lr_cv.best_score_}\")\n",
    "print(f\"Decision Tree:\\t\\t{tf_idf_dt_cv.best_score_}\")\n",
    "print(f\"Random Forest:\\t\\tNo cross validation performed\") # BaggingClassifier does not support cross validation"
   ]
  },
  {
   "cell_type": "markdown",
   "metadata": {},
   "source": [
    "### Recall scores of the models"
   ]
  },
  {
   "cell_type": "code",
   "execution_count": 138,
   "metadata": {},
   "outputs": [
    {
     "name": "stdout",
     "output_type": "stream",
     "text": [
      "Naive Bayes          0.7680608365019012\n",
      "SVC                  0.8060836501901141\n",
      "Logistic Regression  0.8041825095057035\n",
      "Decision Tree        0.7262357414448669\n",
      "Random Forest        0.7338403041825095\n"
     ]
    }
   ],
   "source": [
    "print(\"Naive Bayes\".ljust(20), metrics.recall_score(y_test, tf_idf_nb_pred, labels=target_values, pos_label=target_values[0]))\n",
    "print(\"SVC\".ljust(20), metrics.recall_score(y_test, tf_idf_svc_pred, labels=target_values, pos_label=target_values[0]))\n",
    "print(\"Logistic Regression\".ljust(20), metrics.recall_score(y_test, tf_idf_lr_pred, labels=target_values, pos_label=target_values[0]))\n",
    "print(\"Decision Tree\".ljust(20), metrics.recall_score(y_test, tf_idf_dt_pred, labels=target_values, pos_label=target_values[0]))\n",
    "print(\"Random Forest\".ljust(20), metrics.recall_score(y_test, tf_idf_rf_pred, labels=target_values, pos_label=target_values[0]))"
   ]
  },
  {
   "cell_type": "markdown",
   "metadata": {},
   "source": [
    "### Precision scores of the models"
   ]
  },
  {
   "cell_type": "code",
   "execution_count": 139,
   "metadata": {},
   "outputs": [
    {
     "name": "stdout",
     "output_type": "stream",
     "text": [
      "Naive Bayes          0.725314183123878\n",
      "SVC                  0.7285223367697594\n",
      "Logistic Regression  0.7268041237113402\n",
      "Decision Tree        0.7717171717171717\n",
      "Random Forest        0.7751004016064257\n"
     ]
    }
   ],
   "source": [
    "print(\"Naive Bayes\".ljust(20), metrics.precision_score(y_test, tf_idf_nb_pred, labels=target_values, pos_label=target_values[0]))\n",
    "print(\"SVC\".ljust(20), metrics.precision_score(y_test, tf_idf_svc_pred, labels=target_values, pos_label=target_values[0]))\n",
    "print(\"Logistic Regression\".ljust(20), metrics.precision_score(y_test, tf_idf_lr_pred, labels=target_values, pos_label=target_values[0]))\n",
    "print(\"Decision Tree\".ljust(20), metrics.precision_score(y_test, tf_idf_dt_pred, labels=target_values, pos_label=target_values[0]))\n",
    "print(\"Random Forest\".ljust(20), metrics.precision_score(y_test, tf_idf_rf_pred, labels=target_values, pos_label=target_values[0]))"
   ]
  },
  {
   "cell_type": "markdown",
   "metadata": {},
   "source": [
    "### f1-scores of the models"
   ]
  },
  {
   "cell_type": "code",
   "execution_count": 140,
   "metadata": {},
   "outputs": [
    {
     "name": "stdout",
     "output_type": "stream",
     "text": [
      "Naive Bayes          0.7460757156048015\n",
      "SVC                  0.7653429602888087\n",
      "Logistic Regression  0.7635379061371842\n",
      "Decision Tree        0.7482859941234085\n",
      "Random Forest        0.7539062499999999\n"
     ]
    }
   ],
   "source": [
    "print(\"Naive Bayes\".ljust(20), metrics.f1_score(y_test, tf_idf_nb_pred, labels=target_values, pos_label=target_values[0]))\n",
    "print(\"SVC\".ljust(20), metrics.f1_score(y_test, tf_idf_svc_pred, labels=target_values, pos_label=target_values[0]))\n",
    "print(\"Logistic Regression\".ljust(20), metrics.f1_score(y_test, tf_idf_lr_pred, labels=target_values, pos_label=target_values[0]))\n",
    "print(\"Decision Tree\".ljust(20), metrics.f1_score(y_test, tf_idf_dt_pred, labels=target_values, pos_label=target_values[0]))\n",
    "print(\"Random Forest\".ljust(20), metrics.f1_score(y_test, tf_idf_rf_pred, labels=target_values, pos_label=target_values[0]))"
   ]
  },
  {
   "cell_type": "markdown",
   "metadata": {},
   "source": [
    "### Classification reports"
   ]
  },
  {
   "cell_type": "code",
   "execution_count": 146,
   "metadata": {},
   "outputs": [
    {
     "name": "stdout",
     "output_type": "stream",
     "text": [
      "Naive Bayes\n",
      "                 precision    recall  f1-score      support\n",
      "HillaryClinton    0.725314  0.768061  0.746076   526.000000\n",
      "realDonaldTrump   0.792517  0.752827  0.772162   619.000000\n",
      "accuracy          0.759825  0.759825  0.759825     0.759825\n",
      "macro avg         0.758916  0.760444  0.759119  1145.000000\n",
      "weighted avg      0.761645  0.759825  0.760178  1145.000000\n",
      "\n",
      "\n",
      "SVM\n",
      "                 precision    recall  f1-score      support\n",
      "HillaryClinton    0.728522  0.806084  0.765343   526.000000\n",
      "realDonaldTrump   0.818828  0.744750  0.780034   619.000000\n",
      "accuracy          0.772926  0.772926  0.772926     0.772926\n",
      "macro avg         0.773675  0.775417  0.772688  1145.000000\n",
      "weighted avg      0.777342  0.772926  0.773285  1145.000000\n",
      "\n",
      "\n",
      "Logistic Regression\n",
      "                 precision    recall  f1-score      support\n",
      "HillaryClinton    0.726804  0.804183  0.763538   526.000000\n",
      "realDonaldTrump   0.817052  0.743134  0.778342   619.000000\n",
      "accuracy          0.771179  0.771179  0.771179     0.771179\n",
      "macro avg         0.771928  0.773658  0.770940  1145.000000\n",
      "weighted avg      0.775593  0.771179  0.771541  1145.000000\n",
      "\n",
      "\n",
      "Decision Tree\n",
      "                 precision    recall  f1-score      support\n",
      "HillaryClinton    0.771717  0.726236  0.748286   526.000000\n",
      "realDonaldTrump   0.778462  0.817447  0.797478   619.000000\n",
      "accuracy          0.775546  0.775546  0.775546     0.775546\n",
      "macro avg         0.775089  0.771842  0.772882  1145.000000\n",
      "weighted avg      0.775363  0.775546  0.774880  1145.000000\n",
      "\n",
      "\n",
      "Random Forest\n",
      "                 precision    recall  f1-score      support\n",
      "HillaryClinton    0.775100  0.733840  0.753906   526.000000\n",
      "realDonaldTrump   0.783617  0.819063  0.800948   619.000000\n",
      "accuracy          0.779913  0.779913  0.779913     0.779913\n",
      "macro avg         0.779359  0.776452  0.777427  1145.000000\n",
      "weighted avg      0.779704  0.779913  0.779337  1145.000000\n",
      "\n",
      "\n"
     ]
    }
   ],
   "source": [
    "# classification report\n",
    "report_nb = metrics.classification_report(y_test, tf_idf_nb_pred, labels=target_values, output_dict=True)\n",
    "report_svm = metrics.classification_report(y_test, tf_idf_svc_pred, labels=target_values, output_dict=True)\n",
    "report_lr = metrics.classification_report(y_test, tf_idf_lr_pred, labels=target_values, output_dict=True)\n",
    "report_dt = metrics.classification_report(y_test, tf_idf_dt_pred, labels=target_values, output_dict=True)\n",
    "report_rf = metrics.classification_report(y_test, tf_idf_rf_pred, labels=target_values, output_dict=True)\n",
    "\n",
    "\n",
    "df_nb = pd.DataFrame.from_dict(report_nb).transpose()\n",
    "df_svm = pd.DataFrame.from_dict(report_svm).transpose()\n",
    "df_lr = pd.DataFrame.from_dict(report_lr).transpose()\n",
    "df_dt = pd.DataFrame.from_dict(report_dt).transpose()\n",
    "df_rf = pd.DataFrame.from_dict(report_rf).transpose()\n",
    "\n",
    "report_dict = {\n",
    "    \"Naive Bayes\": df_nb,\n",
    "    \"SVM\": df_svm,\n",
    "    \"Logistic Regression\": df_lr,\n",
    "    \"Decision Tree\": df_dt,\n",
    "    \"Random Forest\": df_rf\n",
    "}\n",
    "\n",
    "for model, report in report_dict.items():\n",
    "    print(model)\n",
    "    print(report)\n",
    "    print(\"\\n\")"
   ]
  },
  {
   "cell_type": "markdown",
   "metadata": {},
   "source": [
    "### Roc-auc scores of the models"
   ]
  },
  {
   "cell_type": "code",
   "execution_count": 142,
   "metadata": {},
   "outputs": [
    {
     "name": "stdout",
     "output_type": "stream",
     "text": [
      "Naive Bayes          0.816599814492896\n",
      "SVC does not support predict_proba\n",
      "Logistic Regression  0.8401137613100979\n",
      "Decision Tree        0.8283736801046702\n",
      "Random Forest        0.8540052949378675\n"
     ]
    }
   ],
   "source": [
    "print(\"Naive Bayes\".ljust(20), metrics.roc_auc_score(y_test, tf_idf_nb.predict_proba(tfidf_test)[:,1]))\n",
    "print(\"SVC does not support predict_proba\")\n",
    "print(\"Logistic Regression\".ljust(20), metrics.roc_auc_score(y_test, tf_idf_lr.predict_proba(tfidf_test)[:,1]))\n",
    "print(\"Decision Tree\".ljust(20), metrics.roc_auc_score(y_test, tf_idf_dt.predict_proba(tfidf_test)[:,1]))\n",
    "print(\"Random Forest\".ljust(20), metrics.roc_auc_score(y_test, tf_idf_rf.predict_proba(tfidf_test)[:,1]))"
   ]
  }
 ],
 "metadata": {
  "kernelspec": {
   "display_name": "Python 3",
   "language": "python",
   "name": "python3"
  },
  "language_info": {
   "codemirror_mode": {
    "name": "ipython",
    "version": 3
   },
   "file_extension": ".py",
   "mimetype": "text/x-python",
   "name": "python",
   "nbconvert_exporter": "python",
   "pygments_lexer": "ipython3",
   "version": "3.11.3"
  }
 },
 "nbformat": 4,
 "nbformat_minor": 2
}
