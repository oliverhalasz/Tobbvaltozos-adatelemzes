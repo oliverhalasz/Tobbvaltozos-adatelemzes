{
 "cells": [
  {
   "cell_type": "markdown",
   "metadata": {},
   "source": [
    "# Twitter author prediction"
   ]
  },
  {
   "cell_type": "markdown",
   "metadata": {},
   "source": [
    "## Prerequisites"
   ]
  },
  {
   "cell_type": "markdown",
   "metadata": {},
   "source": [
    "### Importing necessary libraries"
   ]
  },
  {
   "cell_type": "code",
   "execution_count": 174,
   "metadata": {},
   "outputs": [],
   "source": [
    "import random; random.seed(53)\n",
    "import pandas as pd\n",
    "\n",
    "# Import all we need from sklearn\n",
    "from sklearn.feature_extraction.text import TfidfVectorizer, CountVectorizer\n",
    "from sklearn.model_selection import train_test_split\n",
    "from sklearn.naive_bayes import MultinomialNB\n",
    "from sklearn.svm import LinearSVC\n",
    "from sklearn.linear_model import LogisticRegression\n",
    "from sklearn.tree import DecisionTreeClassifier\n",
    "from sklearn.ensemble import  BaggingClassifier\n",
    "from sklearn.model_selection import GridSearchCV\n",
    "from sklearn import metrics\n",
    "import itertools\n",
    "import numpy as np\n",
    "import matplotlib.pyplot as plt"
   ]
  },
  {
   "cell_type": "markdown",
   "metadata": {},
   "source": [
    "A következő csak egy segédfüggvény, ami majd később segít megjeleníteni a confusion mátrixot."
   ]
  },
  {
   "cell_type": "code",
   "execution_count": 175,
   "metadata": {},
   "outputs": [],
   "source": [
    "\n",
    "def plot_confusion_matrix(cm, classes,\n",
    "                          normalize=False,\n",
    "                          title='Confusion matrix',\n",
    "                          cmap=plt.cm.Blues,\n",
    "                          figure=0):\n",
    "    \"\"\"\n",
    "    See full source and example:\n",
    "    http://scikit-learn.org/stable/auto_examples/model_selection/plot_confusion_matrix.html\n",
    "\n",
    "    This function prints and plots the confusion matrix.\n",
    "    Normalization can be applied by setting `normalize=True`.\n",
    "    \"\"\"\n",
    "    plt.figure(figure)\n",
    "    plt.imshow(cm, interpolation='nearest', cmap=cmap)\n",
    "    plt.title(title)\n",
    "    plt.colorbar()\n",
    "    tick_marks = np.arange(len(classes))\n",
    "    plt.xticks(tick_marks, classes, rotation=45)\n",
    "    plt.yticks(tick_marks, classes)\n",
    "\n",
    "    if normalize:\n",
    "        cm = cm.astype('float') / cm.sum(axis=1)[:, np.newaxis]\n",
    "        print(\"Normalized confusion matrix\")\n",
    "    else:\n",
    "        print('Confusion matrix, without normalization')\n",
    "\n",
    "    thresh = cm.max() / 2.\n",
    "    for i, j in itertools.product(range(cm.shape[0]), range(cm.shape[1])):\n",
    "        plt.text(j, i, cm[i, j],\n",
    "                 horizontalalignment=\"center\",\n",
    "                 color=\"white\" if cm[i, j] > thresh else \"black\")\n",
    "\n",
    "    plt.tight_layout()\n",
    "    plt.ylabel('True label')\n",
    "    plt.xlabel('Predicted label')\n",
    "\n"
   ]
  },
  {
   "cell_type": "markdown",
   "metadata": {},
   "source": [
    "### Load the data"
   ]
  },
  {
   "cell_type": "code",
   "execution_count": 176,
   "metadata": {},
   "outputs": [],
   "source": [
    "# Load data\n",
    "tweet_df = pd.read_csv(\"C:/Users/Oliver/Documents/BCE/Tárgyak/9. félév/Többváltozós statisztika/tweets_1.csv\")\n",
    "#extract the texts and the authors where the author is either HillaryClinton or realDonaldTrump\n",
    "tweet_df = tweet_df[tweet_df.is_retweet == False]\n",
    "tweet_df = tweet_df[[\"handle\", \"text\"]]\n",
    "tweet_df.columns = [\"author\", \"status\"]\n"
   ]
  },
  {
   "cell_type": "markdown",
   "metadata": {},
   "source": [
    "Az eredeti adatbázisban voltak tweetek és retweetek is, de mi csak a tweeteket használjuk fel. Tehát a felhasznált oszlopok a következőképpen néznek ki:"
   ]
  },
  {
   "cell_type": "code",
   "execution_count": 177,
   "metadata": {},
   "outputs": [
    {
     "data": {
      "text/html": [
       "<div>\n",
       "<style scoped>\n",
       "    .dataframe tbody tr th:only-of-type {\n",
       "        vertical-align: middle;\n",
       "    }\n",
       "\n",
       "    .dataframe tbody tr th {\n",
       "        vertical-align: top;\n",
       "    }\n",
       "\n",
       "    .dataframe thead th {\n",
       "        text-align: right;\n",
       "    }\n",
       "</style>\n",
       "<table border=\"1\" class=\"dataframe\">\n",
       "  <thead>\n",
       "    <tr style=\"text-align: right;\">\n",
       "      <th></th>\n",
       "      <th>author</th>\n",
       "      <th>status</th>\n",
       "    </tr>\n",
       "  </thead>\n",
       "  <tbody>\n",
       "    <tr>\n",
       "      <th>0</th>\n",
       "      <td>HillaryClinton</td>\n",
       "      <td>The question in this election: Who can put the...</td>\n",
       "    </tr>\n",
       "    <tr>\n",
       "      <th>3</th>\n",
       "      <td>HillaryClinton</td>\n",
       "      <td>If we stand together, there's nothing we can't...</td>\n",
       "    </tr>\n",
       "    <tr>\n",
       "      <th>4</th>\n",
       "      <td>HillaryClinton</td>\n",
       "      <td>Both candidates were asked about how they'd co...</td>\n",
       "    </tr>\n",
       "    <tr>\n",
       "      <th>5</th>\n",
       "      <td>realDonaldTrump</td>\n",
       "      <td>Join me for a 3pm rally - tomorrow at the Mid-...</td>\n",
       "    </tr>\n",
       "    <tr>\n",
       "      <th>6</th>\n",
       "      <td>HillaryClinton</td>\n",
       "      <td>This election is too important to sit out. Go ...</td>\n",
       "    </tr>\n",
       "  </tbody>\n",
       "</table>\n",
       "</div>"
      ],
      "text/plain": [
       "            author                                             status\n",
       "0   HillaryClinton  The question in this election: Who can put the...\n",
       "3   HillaryClinton  If we stand together, there's nothing we can't...\n",
       "4   HillaryClinton  Both candidates were asked about how they'd co...\n",
       "5  realDonaldTrump  Join me for a 3pm rally - tomorrow at the Mid-...\n",
       "6   HillaryClinton  This election is too important to sit out. Go ..."
      ]
     },
     "execution_count": 177,
     "metadata": {},
     "output_type": "execute_result"
    }
   ],
   "source": [
    "tweet_df.head()"
   ]
  },
  {
   "cell_type": "markdown",
   "metadata": {},
   "source": [
    "A következő sorokban szétbontjuk az adatbázist train és test részekre.  \n",
    "A train rész lesz az, amit felhasználunk a modell tanításához, a test pedig a modell teszteléséhez. Ami érdekes beállítás, hogy a train_test_split függvényben a stratify paramétert a címkére állítjuk, így biztosítva, hogy a train és test részekben is ugyanolyan arányban legyenek a címkék.  \n",
    "A test_size paraméterrel pedig azt állítjuk be, hogy a teljes adatbázis 10%-át használjuk fel tesztelésre. Ez elsőre alacsonynak tűnhet, de a train seten is cross validationt fogunk használni, az overfittinget elkerülendő. _Később meglátjuk, hogy ez mennyire volt jó döntés._"
   ]
  },
  {
   "cell_type": "code",
   "execution_count": 178,
   "metadata": {},
   "outputs": [],
   "source": [
    "# Create target\n",
    "y = tweet_df[\"author\"]\n",
    "# Split training and testing data\n",
    "X_train, X_test, y_train, y_test = train_test_split(\n",
    "    tweet_df[\"status\"], y,  test_size=0.1, stratify=y, random_state=42)"
   ]
  },
  {
   "cell_type": "markdown",
   "metadata": {},
   "source": [
    "## Data cleaning"
   ]
  },
  {
   "cell_type": "markdown",
   "metadata": {},
   "source": [
    "Ebben a részben a tweeteket tokenné alakítjuk két különböző módszerrel. Az egyik módszer a CountVectorizer, a másik pedig a TfidfVectorizer. A kettő közötti különbség, hogy a CountVectorizer csak a szavak előfordulását számolja, míg a TfidfVectorizer a szavak előfordulását szorozza a szavak inverse document frequency-jével. Az inverse document frequency azt mutatja meg, hogy egy szó mennyire jellemző egy adott dokumentumra. Tehát ha egy szó gyakran előfordul egy dokumentumban, akkor az inverse document frequency-je alacsony lesz, mert nem jellemző a dokumentumra.  \n",
    "__Lényegében tehát a TfidfVectorizer a CountVectorizer egy fejlettebb változata, ami a gyakran előforduló szavakat alulreprezentálja, a ritka szavakat pedig felül.__"
   ]
  },
  {
   "cell_type": "markdown",
   "metadata": {},
   "source": [
    "### CountVectorizer"
   ]
  },
  {
   "cell_type": "code",
   "execution_count": 179,
   "metadata": {},
   "outputs": [],
   "source": [
    "count_vectorizer = CountVectorizer(stop_words=\"english\", min_df=0.01, max_df=0.9)\n",
    "count_train = count_vectorizer.fit_transform(X_train)\n",
    "count_test = count_vectorizer.transform(X_test)"
   ]
  },
  {
   "cell_type": "markdown",
   "metadata": {},
   "source": [
    "Itt beállítjuk, hogy mekkora legyen a minimum és a maximum előfordulás, amit még figyelembe veszünk. A stop_words paraméterrel pedig azt állítjuk be, hogy milyen szavakat ne vegyen figyelembe a CountVectorizer. Ezek a szavak általában nem sokatmondóak a modellek szempontjából, mint például a névelők, elöljárószók, stb."
   ]
  },
  {
   "cell_type": "markdown",
   "metadata": {},
   "source": [
    "Egyébként itt egy óriási sparse matrixot kapunk, de ezt jól kezeli a python.  \n",
    "Ilyen szavakat kapunk:"
   ]
  },
  {
   "cell_type": "code",
   "execution_count": 180,
   "metadata": {},
   "outputs": [
    {
     "name": "stdout",
     "output_type": "stream",
     "text": [
      "{'look': 57, 'amp': 6, 'party': 74, 'makeamericagreatagain': 60, 'https': 43, 'let': 52, 'make': 59, 'family': 34, 'america': 2, 'people': 76, 'right': 85, 'want': 114, 'thank': 99, 've': 110, 'campaign': 13, 'donald': 29, 'trump': 107, 'tax': 97, 'plan': 77, 'national': 68, 'years': 126, 'proud': 81, 'tonight': 105, 'women': 120, 'million': 64, 'vote': 111, 'today': 103, 'new': 70, 'york': 127, 'hillary': 41, 'know': 51, 'like': 54, 'trump2016': 108, 'join': 49, 'clinton': 18, 'candidate': 14, 'says': 89, 'country': 20, 'president': 80, 'obama': 73, 'american': 4, 'economy': 30, 'americans': 5, 'realdonaldtrump': 82, 'man': 62, 'good': 37, 'wants': 115, 'great': 39, 'making': 61, 'things': 100, 'watch': 116, 'votetrump': 112, 'night': 72, 'said': 87, 'work': 122, 'change': 17, 'really': 83, 'amazing': 1, 'ted': 98, 'cruz': 23, 'win': 118, 'doesn': 27, 'stop': 94, 'time': 102, 'money': 66, 'won': 121, 'support': 95, 'foxnews': 35, 'history': 42, 'united': 109, 'states': 93, 'don': 28, 'job': 47, 'election': 31, 'just': 50, 'big': 12, 'crooked': 21, 'day': 24, 'soon': 90, 'best': 10, 'need': 69, 'way': 117, 'think': 101, 'jobs': 48, 'help': 40, 'interviewed': 45, 'enjoy': 32, 'world': 124, 'potus': 79, 'going': 36, 'say': 88, 'cnn': 19, 'believe': 8, 'wall': 113, 'did': 26, 'love': 58, 'tomorrow': 104, 'crowd': 22, 'americafirst': 3, 'imwithyou': 44, 'better': 11, 'rubio': 86, 'morning': 67, 'media': 63, 'republican': 84, 'millions': 65, 'care': 15, 'iowa': 46, 'live': 55, 'got': 38, 'families': 33, 'speech': 91, '000': 0, 'life': 53, 'wow': 125, 'news': 71, 'poll': 78, 'working': 123, 'll': 56, 'bad': 7, 'sure': 96, 'debate': 25, 'totally': 106, 'woman': 119, 'bernie': 9, 'pay': 75, 'carolina': 16, 'state': 92}\n"
     ]
    }
   ],
   "source": [
    "print(count_vectorizer.vocabulary_)"
   ]
  },
  {
   "cell_type": "markdown",
   "metadata": {},
   "source": [
    "### Tf-Idf"
   ]
  },
  {
   "cell_type": "code",
   "execution_count": 181,
   "metadata": {},
   "outputs": [],
   "source": [
    "tfidf_vectorizer = TfidfVectorizer(stop_words=\"english\", min_df=0.01, max_df=0.9)\n",
    "tfidf_train = tfidf_vectorizer.fit_transform(X_train)\n",
    "tfidf_test = tfidf_vectorizer.transform(X_test)"
   ]
  },
  {
   "cell_type": "markdown",
   "metadata": {},
   "source": [
    "Itt ugyanazt tudjuk elmondani a paraméterekről, mint a CountVectorizer esetében.  \n",
    "A kapott szavak persze ugyanazok, de a sparse mátrixban nem a darabszámuk szerepel, hanem az inverse document frequency-jük."
   ]
  },
  {
   "cell_type": "code",
   "execution_count": 182,
   "metadata": {},
   "outputs": [
    {
     "name": "stdout",
     "output_type": "stream",
     "text": [
      "{'look': 57, 'amp': 6, 'party': 74, 'makeamericagreatagain': 60, 'https': 43, 'let': 52, 'make': 59, 'family': 34, 'america': 2, 'people': 76, 'right': 85, 'want': 114, 'thank': 99, 've': 110, 'campaign': 13, 'donald': 29, 'trump': 107, 'tax': 97, 'plan': 77, 'national': 68, 'years': 126, 'proud': 81, 'tonight': 105, 'women': 120, 'million': 64, 'vote': 111, 'today': 103, 'new': 70, 'york': 127, 'hillary': 41, 'know': 51, 'like': 54, 'trump2016': 108, 'join': 49, 'clinton': 18, 'candidate': 14, 'says': 89, 'country': 20, 'president': 80, 'obama': 73, 'american': 4, 'economy': 30, 'americans': 5, 'realdonaldtrump': 82, 'man': 62, 'good': 37, 'wants': 115, 'great': 39, 'making': 61, 'things': 100, 'watch': 116, 'votetrump': 112, 'night': 72, 'said': 87, 'work': 122, 'change': 17, 'really': 83, 'amazing': 1, 'ted': 98, 'cruz': 23, 'win': 118, 'doesn': 27, 'stop': 94, 'time': 102, 'money': 66, 'won': 121, 'support': 95, 'foxnews': 35, 'history': 42, 'united': 109, 'states': 93, 'don': 28, 'job': 47, 'election': 31, 'just': 50, 'big': 12, 'crooked': 21, 'day': 24, 'soon': 90, 'best': 10, 'need': 69, 'way': 117, 'think': 101, 'jobs': 48, 'help': 40, 'interviewed': 45, 'enjoy': 32, 'world': 124, 'potus': 79, 'going': 36, 'say': 88, 'cnn': 19, 'believe': 8, 'wall': 113, 'did': 26, 'love': 58, 'tomorrow': 104, 'crowd': 22, 'americafirst': 3, 'imwithyou': 44, 'better': 11, 'rubio': 86, 'morning': 67, 'media': 63, 'republican': 84, 'millions': 65, 'care': 15, 'iowa': 46, 'live': 55, 'got': 38, 'families': 33, 'speech': 91, '000': 0, 'life': 53, 'wow': 125, 'news': 71, 'poll': 78, 'working': 123, 'll': 56, 'bad': 7, 'sure': 96, 'debate': 25, 'totally': 106, 'woman': 119, 'bernie': 9, 'pay': 75, 'carolina': 16, 'state': 92}\n"
     ]
    }
   ],
   "source": [
    "print(tfidf_vectorizer.vocabulary_)"
   ]
  },
  {
   "cell_type": "markdown",
   "metadata": {},
   "source": [
    "## Training the models"
   ]
  },
  {
   "cell_type": "markdown",
   "metadata": {},
   "source": [
    "Ebben a fejezetben definiáljuk a felhasznált modelleket, és tanítjuk is őket.\n",
    "\n",
    "A CountVectorizerrel kapott adatokat nem használjuk fel, csak a TfidfVectorizerrel kapottakat. Ennek egyszerű oka, hogy mindig jobban teljesít a TfidfVectorizerrel kapott adatokon tanított modell, mint a CountVectorizerrel kapott adatokon tanított modell.\n",
    "\n",
    "Minden modell esetében a következő lépések történnek:\n",
    "1. A modell létrehozása\n",
    "2. Modell lehetséges hiperparamétereinek megadása\n",
    "3. A hiperparaméterek terén egy cross validációs optimalizáció futtatása (azaz végigmegyünk az összes lehetséges hiperparaméter kombináción, amit megadtunk, és megnézzük, hogy melyik kombináció adja a legjobb eredményt).  \n",
    "Ezt lehetne randomizálni, de felesleges, így is lefutnak másodpercek alatt a tanulások.\n",
    "1. A legjobb hiperparaméterekkel új modell létrehozása, ezekkel fogjuk kiértékelni a modellt a test seten.\n",
    "\n",
    "Minden modell alatt ki lesz írva, hogy a legjobb estimator milyen hiperparaméterekkel rendelkezik.\n",
    "\n",
    "_Megjegyzés 1: Ezért nem gond, hogy 90%-os nagyságú a train setünk, mert még ezen belül is cross validációt használunk._\n",
    "\n",
    "_Megjegyzés 2: A hiperparaméterek terét erősebb géppel nagyobbnak is lehetne állítani, de ezek így még a legtöbb gépen elfutnak._"
   ]
  },
  {
   "cell_type": "markdown",
   "metadata": {},
   "source": [
    "### Training a multinomial naive Bayes model"
   ]
  },
  {
   "cell_type": "markdown",
   "metadata": {},
   "source": [
    "Először egy multinomiális naív Bayes modellt alkotunk. \n",
    "\n",
    "Itt a következő hiperparamétereket állítjuk be:\n",
    "- __alpha__: ez egy smoothing paraméter, ami azt szabályozza, hogy mennyire legyenek simák a döntési határok. Ha ez a paraméter 0, akkor a modell nem fogja tudni kezelni azokat a szavakat, amiket a tanító adatbázisban nem látott. Ha ez a paraméter túl nagy, akkor pedig a modell túl sima lesz, és semmitmondó eredményeket fogunk kapni.\n",
    "- __fit_prior__: ez egy boolean, ami azt szabályozza, hogy a modellnek legyenek-e saját priorjai, vagy pedig a tanító adatbázisban látott előfordulások alapján számolja ki a priorokat."
   ]
  },
  {
   "cell_type": "code",
   "execution_count": 183,
   "metadata": {},
   "outputs": [
    {
     "name": "stdout",
     "output_type": "stream",
     "text": [
      "Best parameters: {'alpha': 10.0, 'fit_prior': True}\n"
     ]
    }
   ],
   "source": [
    "# Create and fit the model for the tf-idf data\n",
    "param_grid_nb = {\n",
    "    'alpha': [0.0001, 0.001, 0.01, 0.1, 1.0, 10.0],\n",
    "    'fit_prior': [True, False],\n",
    "}\n",
    "tf_idf_nb_cv = GridSearchCV(MultinomialNB(), param_grid_nb, cv=5)\n",
    "tf_idf_nb_cv.fit(tfidf_train, y_train)\n",
    "tf_idf_nb = tf_idf_nb_cv.best_estimator_\n",
    "tf_idf_nb_pred = tf_idf_nb.predict(tfidf_test)\n",
    "print(\"Best parameters: {}\".format(tf_idf_nb_cv.best_params_))\n"
   ]
  },
  {
   "cell_type": "markdown",
   "metadata": {},
   "source": [
    "### Training an SVM model"
   ]
  },
  {
   "cell_type": "markdown",
   "metadata": {},
   "source": [
    "Itt az SVM-ek legegyszerűbb változatát használjuk, a lineáris support vector machine-t.  \n",
    "A következő hiperparamétereket állítjuk be:\n",
    "- __C__: ez egy regularization paraméter, ami azt szabályozza, hogy mennyire legyenek simák a döntési határok. Ha ez a paraméter túl nagy, akkor a modell túl sima lesz, és semmitmondó eredményeket fogunk kapni. Ha túl kicsi, akkor pedig a modell túl zajos lesz, és overfitteléshez vezethet. _Gyakorlatiliag a hipersík elhelyezkedését szabályozza a pontokhoz képest, minél kisebb a C, annál jobban bűnteti a hipersíkhoz közeli ponotokat._\n",
    "- __dual__: Ez csak a megoldási algoritmusra van hatással, azt mutatja, hogy az optimalizálási feladat primál vagy duál feladatát oldja-e meg az algoritmus. Lehet, hogy közelítési hibák miatt van különbség a kettő között, ezért erre a paraméterre is optimalizálunk, persze ez nem lenne szükséges."
   ]
  },
  {
   "cell_type": "code",
   "execution_count": 184,
   "metadata": {},
   "outputs": [
    {
     "name": "stdout",
     "output_type": "stream",
     "text": [
      "Best parameters: {'C': 0.01, 'dual': True}\n"
     ]
    }
   ],
   "source": [
    "param_grid_svc = {\n",
    "    \"C\": [0.0001, 0.001, 0.01, 0.1, 1, 10],\n",
    "    \"dual\": [True, False],\n",
    "}\n",
    "tf_idf_svc_cv = GridSearchCV(LinearSVC(), param_grid=param_grid_svc, cv=5)\n",
    "tf_idf_svc_cv.fit(tfidf_train, y_train)\n",
    "tf_idf_svc_pred = tf_idf_svc_cv.predict(tfidf_test)\n",
    "tf_idf_svc = tf_idf_svc_cv.best_estimator_\n",
    "print(\"Best parameters: {}\".format(tf_idf_svc_cv.best_params_))\n",
    "\n"
   ]
  },
  {
   "cell_type": "markdown",
   "metadata": {},
   "source": [
    "Fontos megjegyezni, hogy itt a legkevésbé sem használtuk ki az SVM-ekben rejlő potenciált, mivel csak egy lineáris SVM-et használtunk, ami nem tud nem lineárisan szeparálható adatokon tökéletesen teljesíteni."
   ]
  },
  {
   "cell_type": "markdown",
   "metadata": {},
   "source": [
    "### Training a logistic regression model"
   ]
  },
  {
   "cell_type": "markdown",
   "metadata": {},
   "source": [
    "Itt egy logisztikus regressziós modellt használunk.\n",
    "\n",
    "A hiperparaméter a következő:\n",
    "- __C__: Ez is egy regulizációs paraméter, ami bünteti a nagyobb paramétereket. Ezt is persze az overfitting elkerülése végett használjuk."
   ]
  },
  {
   "cell_type": "code",
   "execution_count": 185,
   "metadata": {},
   "outputs": [
    {
     "name": "stdout",
     "output_type": "stream",
     "text": [
      "Best parameters: {'C': 1}\n"
     ]
    }
   ],
   "source": [
    "param_grid_lr = {\n",
    "    \"C\": [0.0001, 0.001, 0.01, 0.1, 1, 10]\n",
    "}\n",
    "tf_idf_lr_cv = GridSearchCV(LogisticRegression(), param_grid=param_grid_lr, cv=5)\n",
    "tf_idf_lr_cv.fit(tfidf_train, y_train)\n",
    "tf_idf_lr = tf_idf_lr_cv.best_estimator_\n",
    "tf_idf_lr_pred = tf_idf_lr.predict(tfidf_test)\n",
    "print(\"Best parameters: {}\".format(tf_idf_lr_cv.best_params_))"
   ]
  },
  {
   "cell_type": "markdown",
   "metadata": {},
   "source": [
    "### Training a decision tree model"
   ]
  },
  {
   "cell_type": "markdown",
   "metadata": {},
   "source": [
    "Döntési fa, na itt már izgalmasabb hiperparaméterek is vannak.\n",
    "\n",
    "- __criterion__: Ez a módszer, ami alapján az egyes spliteket csinálja az algoritmus. Kettőt próbáltunk, a ginit és az entropyt.\n",
    "- __max_depth__: Ez a paraméter azt szabályozza, hogy milyen mély legyen maximálisan a döntési fa. Ha túl nagy, akkor overfitteléshez vezethet, ha túl kicsi, akkor pedig nem lesz elég pontos a modell.\n",
    "- __min_samples_leaf__: Ez a paraméter azt szabályozza, hogy egy levélben hány elem legyen minimum. Ha túl kicsi, akkor overfitteléshez vezethet, ha túl nagy, akkor pedig nem lesz elég pontos a modell."
   ]
  },
  {
   "cell_type": "code",
   "execution_count": 186,
   "metadata": {},
   "outputs": [
    {
     "name": "stdout",
     "output_type": "stream",
     "text": [
      "Best parameters: {'criterion': 'gini', 'max_depth': 8, 'min_samples_leaf': 1}\n"
     ]
    }
   ],
   "source": [
    "param_grid_dt = {\n",
    "    \"criterion\": [\"gini\", \"entropy\"],\n",
    "    \"max_depth\": [1, 2, 3, 4, 5, 6, 7, 8],\n",
    "    \"min_samples_leaf\": [1, 2, 3, 4, 5, 6, 7, 8]\n",
    "}\n",
    "tf_idf_dt_cv = GridSearchCV(DecisionTreeClassifier(), param_grid=param_grid_dt, cv=5, n_jobs=-1)\n",
    "tf_idf_dt_cv.fit(tfidf_train, y_train)\n",
    "tf_idf_dt = tf_idf_dt_cv.best_estimator_\n",
    "tf_idf_dt_pred = tf_idf_dt.predict(tfidf_test)\n",
    "print(\"Best parameters: {}\".format(tf_idf_dt_cv.best_params_))"
   ]
  },
  {
   "cell_type": "markdown",
   "metadata": {},
   "source": [
    "### Training a random forest model"
   ]
  },
  {
   "cell_type": "markdown",
   "metadata": {},
   "source": [
    "Na itt már maga a modell is érdekesebb, ugyanis ez egy bagginges random forest modell.  \n",
    "Itt tehát folyamatosan bootsrappeljük nemcsak a megfigyeléseket, hanem a feature-öket is.\n",
    "\n",
    "A hiperparaméterek a következők:\n",
    "- __n_estimators__: Ez a paraméter azt szabályozza, hogy hány döntési fát használjunk a modellben. Minél többet használunk, annál pontosabb lesz a modell, de annál több erőforrást is fog igénybe venni.\n",
    "- __max_samples__: Ez a paraméter azt szabályozza, hogy egy döntési fa mennyi megfigyelést használjon fel a tanuláshoz. Minél többet használunk, annál pontosabb lesz a modell, de annál több erőforrást is fog igénybe venni. (itt, ha floatot adunk meg, akkor az összes megfigyelés 80%-át használja fel a tanuláshoz)\n",
    "- __max_features__: Ez a paraméter azt szabályozza, hogy egy döntési fa mennyi feature-t használjon fel a tanuláshoz. Minél többet használunk, annál pontosabb lesz a modell, de annál több erőforrást is fog igénybe venni. (itt, ha floatot adunk meg, akkor az összes változó (token) 80%-át használja fel a tanuláshoz)\n",
    "- __random_state__: ez egy seed állítás, hogy reprodukálható eredményeket kapjunk.\n",
    "- __n_jobs__: ez a paraméter azt szabályozza, hogy hány magot használjon fel a gép a modell tanításához. Ha -1-et adunk meg, akkor az összes magot felhasználja."
   ]
  },
  {
   "cell_type": "code",
   "execution_count": 187,
   "metadata": {},
   "outputs": [],
   "source": [
    "tf_idf_rf = BaggingClassifier(DecisionTreeClassifier(), n_estimators=100, max_samples=0.8, max_features=0.8, random_state=42, n_jobs=-1)\n",
    "tf_idf_rf.fit(tfidf_train, y_train)\n",
    "tf_idf_rf_pred = tf_idf_rf.predict(tfidf_test)"
   ]
  },
  {
   "cell_type": "markdown",
   "metadata": {},
   "source": [
    "## Accuracy scores (for the tf-idf vectorizer)"
   ]
  },
  {
   "cell_type": "markdown",
   "metadata": {},
   "source": [
    "Az adatbázisunk elemzése során számos helyességet és pontosságot mérő mutatót alkalmaztunk. A következőekben ezeket a mutatókat fogjuk ismertetni. "
   ]
  },
  {
   "cell_type": "code",
   "execution_count": 188,
   "metadata": {},
   "outputs": [],
   "source": [
    "target_values = list(tf_idf_lr.classes_)"
   ]
  },
  {
   "cell_type": "markdown",
   "metadata": {},
   "source": [
    "### Confusion matrices"
   ]
  },
  {
   "cell_type": "code",
   "execution_count": 189,
   "metadata": {},
   "outputs": [],
   "source": [
    "tf_idf_nb_cm = metrics.confusion_matrix(y_test, tf_idf_nb_pred, labels=target_values, normalize='true')\n",
    "tf_idf_svc_cm = metrics.confusion_matrix(y_test, tf_idf_svc_pred, labels=target_values, normalize='true')\n",
    "tf_idf_lr_cm = metrics.confusion_matrix(y_test, tf_idf_lr_pred, labels=target_values, normalize='true')\n",
    "tf_idf_dt_cm = metrics.confusion_matrix(y_test, tf_idf_dt_pred, labels=target_values, normalize='true')\n",
    "tf_idf_rf_cm = metrics.confusion_matrix(y_test, tf_idf_rf_pred, labels=target_values, normalize='true')"
   ]
  },
  {
   "cell_type": "code",
   "execution_count": 190,
   "metadata": {},
   "outputs": [
    {
     "data": {
      "text/plain": [
       "<sklearn.metrics._plot.confusion_matrix.ConfusionMatrixDisplay at 0x226110f3550>"
      ]
     },
     "execution_count": 190,
     "metadata": {},
     "output_type": "execute_result"
    },
    {
     "data": {
      "image/png": "[encoded data removed]",
      "text/plain": [
       "<Figure size 640x480 with 2 Axes>"
      ]
     },
     "metadata": {},
     "output_type": "display_data"
    },
    {
     "data": {
      "image/png": "[encoded data removed]",
      "text/plain": [
       "<Figure size 640x480 with 2 Axes>"
      ]
     },
     "metadata": {},
     "output_type": "display_data"
    },
    {
     "data": {
      "image/png": "[encoded data removed]",
      "text/plain": [
       "<Figure size 640x480 with 2 Axes>"
      ]
     },
     "metadata": {},
     "output_type": "display_data"
    },
    {
     "data": {
      "image/png": "[encoded data removed]",
      "text/plain": [
       "<Figure size 640x480 with 2 Axes>"
      ]
     },
     "metadata": {},
     "output_type": "display_data"
    },
    {
     "data": {
      "image/png": "[encoded data removed]",
      "text/plain": [
       "<Figure size 640x480 with 2 Axes>"
      ]
     },
     "metadata": {},
     "output_type": "display_data"
    }
   ],
   "source": [
    "metrics.ConfusionMatrixDisplay(tf_idf_nb_cm, display_labels=target_values).plot()\n",
    "metrics.ConfusionMatrixDisplay(tf_idf_svc_cm, display_labels=target_values).plot()\n",
    "metrics.ConfusionMatrixDisplay(tf_idf_lr_cm, display_labels=target_values).plot()\n",
    "metrics.ConfusionMatrixDisplay(tf_idf_dt_cm, display_labels=target_values).plot()\n",
    "metrics.ConfusionMatrixDisplay(tf_idf_rf_cm, display_labels=target_values).plot()"
   ]
  },
  {
   "cell_type": "markdown",
   "metadata": {},
   "source": [
    "### Accuracy scores of the models (on the test set)"
   ]
  },
  {
   "cell_type": "markdown",
   "metadata": {},
   "source": [
    "Az accuracy score helyes előrejelzések (True Positive + True Negative) és az összes előrejelzés teljes számának (True és False Positive + True és False Negative) hányadosaként kapható meg.  \n",
    "Magyarán, hogy hány százalékban helyes az előrejelzés."
   ]
  },
  {
   "cell_type": "markdown",
   "metadata": {},
   "source": [
    "A test seten kapott eredmények a következők:"
   ]
  },
  {
   "cell_type": "code",
   "execution_count": 191,
   "metadata": {},
   "outputs": [
    {
     "name": "stdout",
     "output_type": "stream",
     "text": [
      "Naive Bayes\t\t 0.8464223385689355\n",
      "SVC\t\t\t 0.8621291448516579\n",
      "Logistic Regression\t 0.8691099476439791\n",
      "Decision Tree\t\t 0.8237347294938918\n",
      "Random Forest\t\t 0.8795811518324608\n"
     ]
    }
   ],
   "source": [
    "print(\"Naive Bayes\\t\\t\", tf_idf_nb.score(tfidf_test, y_test))\n",
    "print(\"SVC\\t\\t\\t\", tf_idf_svc.score(tfidf_test, y_test))\n",
    "print(\"Logistic Regression\\t\", tf_idf_lr.score(tfidf_test, y_test))\n",
    "print(\"Decision Tree\\t\\t\", tf_idf_dt.score(tfidf_test, y_test))\n",
    "print(\"Random Forest\\t\\t\", tf_idf_rf.score(tfidf_test, y_test))"
   ]
  },
  {
   "cell_type": "markdown",
   "metadata": {},
   "source": [
    "A train seten kapott eredmények a következők (cross validációval):"
   ]
  },
  {
   "cell_type": "code",
   "execution_count": 192,
   "metadata": {},
   "outputs": [
    {
     "name": "stdout",
     "output_type": "stream",
     "text": [
      "Naive Bayes:\t\t0.8283149820260975\n",
      "SVC:\t\t\t0.8522043269457574\n",
      "Logistic Regression:\t0.8518159774311945\n",
      "Decision Tree:\t\t0.8201586987083322\n",
      "Random Forest:\t\tNo cross validation performed\n"
     ]
    }
   ],
   "source": [
    "print(f\"Naive Bayes:\\t\\t{tf_idf_nb_cv.best_score_}\")\n",
    "print(f\"SVC:\\t\\t\\t{tf_idf_svc_cv.best_score_}\")\n",
    "print(f\"Logistic Regression:\\t{tf_idf_lr_cv.best_score_}\")\n",
    "print(f\"Decision Tree:\\t\\t{tf_idf_dt_cv.best_score_}\")\n",
    "print(f\"Random Forest:\\t\\tNo cross validation performed\") # BaggingClassifier does not support cross validation"
   ]
  },
  {
   "cell_type": "markdown",
   "metadata": {},
   "source": [
    "Az accuracy scores (test set-en) és cross validation (training set-en) esetekben, amit érdemes megemlíteni az az, hogy nem fordul elő túlillesztés a tanuló adatbázisra. A training set-en kevésbe pontosak a fent említett modellek, mint a test set-en, ez alapján elmondható, hogy a modell új adatokkal is megfelelően prediktál. "
   ]
  },
  {
   "cell_type": "markdown",
   "metadata": {},
   "source": [
    "### Recall and precision scores"
   ]
  },
  {
   "cell_type": "markdown",
   "metadata": {},
   "source": [
    "A recall és precision score-okat elegendő együtt bemutatni, hiszen egészen hasonló adatokat mérnek a modellek során.   "
   ]
  },
  {
   "cell_type": "markdown",
   "metadata": {},
   "source": [
    "#### Recall scores:\n",
    "\n",
    "A recall mérőszám a helyesen megállapított pozitívokat mutatja meg, így az összes olyan tweet, esetében megmutatja, hogy hányat azonosított a modell helyesen. "
   ]
  },
  {
   "cell_type": "code",
   "execution_count": 193,
   "metadata": {},
   "outputs": [
    {
     "name": "stdout",
     "output_type": "stream",
     "text": [
      "Naive Bayes          0.8326996197718631\n",
      "SVC                  0.8212927756653993\n",
      "Logistic Regression  0.8479087452471483\n",
      "Decision Tree        0.779467680608365\n",
      "Random Forest        0.8783269961977186\n"
     ]
    }
   ],
   "source": [
    "print(\"Naive Bayes\".ljust(20), metrics.recall_score(y_test, tf_idf_nb_pred, labels=target_values, pos_label=target_values[0]))\n",
    "print(\"SVC\".ljust(20), metrics.recall_score(y_test, tf_idf_svc_pred, labels=target_values, pos_label=target_values[0]))\n",
    "print(\"Logistic Regression\".ljust(20), metrics.recall_score(y_test, tf_idf_lr_pred, labels=target_values, pos_label=target_values[0]))\n",
    "print(\"Decision Tree\".ljust(20), metrics.recall_score(y_test, tf_idf_dt_pred, labels=target_values, pos_label=target_values[0]))\n",
    "print(\"Random Forest\".ljust(20), metrics.recall_score(y_test, tf_idf_rf_pred, labels=target_values, pos_label=target_values[0]))"
   ]
  },
  {
   "cell_type": "markdown",
   "metadata": {},
   "source": [
    "#### Precision scores:\n",
    "\n",
    "A precision a valódi és az összes pozitív eredmény közötti arányt jelenti, ahol az összes pozitív a valódi és a hamis pozitívokat foglalja magába. A téves pozitívak azok az esetek, amikor a modell tévesen pozitívnak ítél, viszont az valójában hamis. Azaz egy olyan metrika, amely a pozitív előrejelzések pontosságát méri. Ez az adatbázisunk esetében azt jelenti, hogy a politikusoktól származónak prediktálja a tweet-et miközben nem az. "
   ]
  },
  {
   "cell_type": "code",
   "execution_count": 194,
   "metadata": {},
   "outputs": [
    {
     "name": "stdout",
     "output_type": "stream",
     "text": [
      "Naive Bayes          0.8326996197718631\n",
      "SVC                  0.8709677419354839\n",
      "Logistic Regression  0.8643410852713178\n",
      "Decision Tree        0.8266129032258065\n",
      "Random Forest        0.8619402985074627\n"
     ]
    }
   ],
   "source": [
    "print(\"Naive Bayes\".ljust(20), metrics.precision_score(y_test, tf_idf_nb_pred, labels=target_values, pos_label=target_values[0]))\n",
    "print(\"SVC\".ljust(20), metrics.precision_score(y_test, tf_idf_svc_pred, labels=target_values, pos_label=target_values[0]))\n",
    "print(\"Logistic Regression\".ljust(20), metrics.precision_score(y_test, tf_idf_lr_pred, labels=target_values, pos_label=target_values[0]))\n",
    "print(\"Decision Tree\".ljust(20), metrics.precision_score(y_test, tf_idf_dt_pred, labels=target_values, pos_label=target_values[0]))\n",
    "print(\"Random Forest\".ljust(20), metrics.precision_score(y_test, tf_idf_rf_pred, labels=target_values, pos_label=target_values[0]))"
   ]
  },
  {
   "cell_type": "markdown",
   "metadata": {},
   "source": [
    "#### f1-scores of the models"
   ]
  },
  {
   "cell_type": "markdown",
   "metadata": {},
   "source": [
    "Azokban az esetekben, amikor a recall-t vagy precision-t szeretnénk maximalizálni, vagy esetleg mindkét mutató egyformán fontos, ezt aggregáltan megtehetjük egy új mérőszám, az F1. Ez a mutató a recall és precision harmonikus átlagaként számítható ki.  \n",
    "Ennek egyébként létezik egy súlyozott változata is, amiben megadhatjuk a preferált mutatót, de mi most nem ezt használjuk."
   ]
  },
  {
   "cell_type": "code",
   "execution_count": 195,
   "metadata": {},
   "outputs": [
    {
     "name": "stdout",
     "output_type": "stream",
     "text": [
      "Naive Bayes          0.832699619771863\n",
      "SVC                  0.8454011741682974\n",
      "Logistic Regression  0.8560460652591172\n",
      "Decision Tree        0.802348336594912\n",
      "Random Forest        0.8700564971751411\n"
     ]
    }
   ],
   "source": [
    "print(\"Naive Bayes\".ljust(20), metrics.f1_score(y_test, tf_idf_nb_pred, labels=target_values, pos_label=target_values[0]))\n",
    "print(\"SVC\".ljust(20), metrics.f1_score(y_test, tf_idf_svc_pred, labels=target_values, pos_label=target_values[0]))\n",
    "print(\"Logistic Regression\".ljust(20), metrics.f1_score(y_test, tf_idf_lr_pred, labels=target_values, pos_label=target_values[0]))\n",
    "print(\"Decision Tree\".ljust(20), metrics.f1_score(y_test, tf_idf_dt_pred, labels=target_values, pos_label=target_values[0]))\n",
    "print(\"Random Forest\".ljust(20), metrics.f1_score(y_test, tf_idf_rf_pred, labels=target_values, pos_label=target_values[0]))"
   ]
  },
  {
   "cell_type": "markdown",
   "metadata": {},
   "source": [
    "### Classification reports"
   ]
  },
  {
   "cell_type": "markdown",
   "metadata": {},
   "source": [
    "A fenti mutatók csak Donal Trumpra vannak megadva, itt láthatók összesítve a modellek eredményei."
   ]
  },
  {
   "cell_type": "code",
   "execution_count": 196,
   "metadata": {},
   "outputs": [
    {
     "name": "stdout",
     "output_type": "stream",
     "text": [
      "Naive Bayes\n",
      "                 precision    recall  f1-score     support\n",
      "HillaryClinton    0.832700  0.832700  0.832700  263.000000\n",
      "realDonaldTrump   0.858065  0.858065  0.858065  310.000000\n",
      "accuracy          0.846422  0.846422  0.846422    0.846422\n",
      "macro avg         0.845382  0.845382  0.845382  573.000000\n",
      "weighted avg      0.846422  0.846422  0.846422  573.000000\n",
      "\n",
      "\n",
      "SVM\n",
      "                 precision    recall  f1-score     support\n",
      "HillaryClinton    0.870968  0.821293  0.845401  263.000000\n",
      "realDonaldTrump   0.855385  0.896774  0.875591  310.000000\n",
      "accuracy          0.862129  0.862129  0.862129    0.862129\n",
      "macro avg         0.863176  0.859033  0.860496  573.000000\n",
      "weighted avg      0.862537  0.862129  0.861734  573.000000\n",
      "\n",
      "\n",
      "Logistic Regression\n",
      "                 precision    recall  f1-score    support\n",
      "HillaryClinton    0.864341  0.847909  0.856046  263.00000\n",
      "realDonaldTrump   0.873016  0.887097  0.880000  310.00000\n",
      "accuracy          0.869110  0.869110  0.869110    0.86911\n",
      "macro avg         0.868678  0.867503  0.868023  573.00000\n",
      "weighted avg      0.869034  0.869110  0.869005  573.00000\n",
      "\n",
      "\n",
      "Decision Tree\n",
      "                 precision    recall  f1-score     support\n",
      "HillaryClinton    0.826613  0.779468  0.802348  263.000000\n",
      "realDonaldTrump   0.821538  0.861290  0.840945  310.000000\n",
      "accuracy          0.823735  0.823735  0.823735    0.823735\n",
      "macro avg         0.824076  0.820379  0.821647  573.000000\n",
      "weighted avg      0.823868  0.823735  0.823230  573.000000\n",
      "\n",
      "\n",
      "Random Forest\n",
      "                 precision    recall  f1-score     support\n",
      "HillaryClinton    0.861940  0.878327  0.870056  263.000000\n",
      "realDonaldTrump   0.895082  0.880645  0.887805  310.000000\n",
      "accuracy          0.879581  0.879581  0.879581    0.879581\n",
      "macro avg         0.878511  0.879486  0.878931  573.000000\n",
      "weighted avg      0.879870  0.879581  0.879659  573.000000\n",
      "\n",
      "\n"
     ]
    }
   ],
   "source": [
    "# classification report\n",
    "report_nb = metrics.classification_report(y_test, tf_idf_nb_pred, labels=target_values, output_dict=True)\n",
    "report_svm = metrics.classification_report(y_test, tf_idf_svc_pred, labels=target_values, output_dict=True)\n",
    "report_lr = metrics.classification_report(y_test, tf_idf_lr_pred, labels=target_values, output_dict=True)\n",
    "report_dt = metrics.classification_report(y_test, tf_idf_dt_pred, labels=target_values, output_dict=True)\n",
    "report_rf = metrics.classification_report(y_test, tf_idf_rf_pred, labels=target_values, output_dict=True)\n",
    "\n",
    "\n",
    "df_nb = pd.DataFrame.from_dict(report_nb).transpose()\n",
    "df_svm = pd.DataFrame.from_dict(report_svm).transpose()\n",
    "df_lr = pd.DataFrame.from_dict(report_lr).transpose()\n",
    "df_dt = pd.DataFrame.from_dict(report_dt).transpose()\n",
    "df_rf = pd.DataFrame.from_dict(report_rf).transpose()\n",
    "\n",
    "report_dict = {\n",
    "    \"Naive Bayes\": df_nb,\n",
    "    \"SVM\": df_svm,\n",
    "    \"Logistic Regression\": df_lr,\n",
    "    \"Decision Tree\": df_dt,\n",
    "    \"Random Forest\": df_rf\n",
    "}\n",
    "\n",
    "for model, report in report_dict.items():\n",
    "    print(model)\n",
    "    print(report)\n",
    "    print(\"\\n\")"
   ]
  },
  {
   "cell_type": "markdown",
   "metadata": {},
   "source": [
    "Észrevehető, hogy a legtöbb modell közül a random forest az, ahol a legnagyobb valószínűséggel becsüli a True Positive értékeket. \n",
    "\n",
    "Fontos megjegyezni, hogy mindkét vizsgált modell esetében Donald Trump tweetjei azok, amik jobban előrejelezhetők voltak Hillary Clintonnal szemben. Clinton esetében több pozitív esetet is hamisan becsült a modell a döntési fa esetében, viszont a random forestnél közel 0.08-dal magasabb értéket ért el. A döntési fa közel minden mutató esetében (precision, recall és F1) gyengébb eredményt produkált a többi modellhez mérve. \n"
   ]
  },
  {
   "cell_type": "markdown",
   "metadata": {},
   "source": [
    "### Roc-auc scores of the models"
   ]
  },
  {
   "cell_type": "markdown",
   "metadata": {},
   "source": [
    "A ROC-AUC az egyik legfontosabb mérőszám, hiszen megmutatja, hogy maga a modell mennyire hatékony. \n",
    "\n",
    "Ezt onnan láthatjuk, hogy minél magasabb az AUC, annál jobb a modell teljesítménye a pozitív és negatív osztályok megkülönböztetésében. Az 1-es AUC érték azt jelenti, hogy tökéletesen meg tudja különböztetni az összes pozitív és negatív osztálypontot. \n",
    "\n",
    "A 0 AUC-érték azt mutatja, hogy minden negatívot pozitívnak jósol, és fordítva is. A 0.5-es érték esetében azt jelenti a modellre nézve, hogy az osztályozó nem működik. \n",
    "\n",
    "A 0.5 feletti AUC-érték alapján az osztályozó több True Positive és True Negative eredményt tud felismerni, mint False Negative és False Positive eredményt. \n",
    "\n",
    "Magyarán minél szélsőségesebb (helyes) valószínűségeket dob ki a modell, annál magasabb az AUC érték.\n",
    "\n",
    "Esetünkben az 1-es értéket igen megközelítette a random forest modellből származó 0.95-ös érték.  "
   ]
  },
  {
   "cell_type": "code",
   "execution_count": 197,
   "metadata": {},
   "outputs": [
    {
     "name": "stdout",
     "output_type": "stream",
     "text": [
      "Naive Bayes          0.922758493805961\n",
      "SVC does not support predict_proba\n",
      "Logistic Regression  0.9346436894394701\n",
      "Decision Tree        0.8467435299889612\n",
      "Random Forest        0.9503618300012265\n"
     ]
    }
   ],
   "source": [
    "print(\"Naive Bayes\".ljust(20), metrics.roc_auc_score(y_test, tf_idf_nb.predict_proba(tfidf_test)[:,1]))\n",
    "print(\"SVC does not support predict_proba\")\n",
    "print(\"Logistic Regression\".ljust(20), metrics.roc_auc_score(y_test, tf_idf_lr.predict_proba(tfidf_test)[:,1]))\n",
    "print(\"Decision Tree\".ljust(20), metrics.roc_auc_score(y_test, tf_idf_dt.predict_proba(tfidf_test)[:,1]))\n",
    "print(\"Random Forest\".ljust(20), metrics.roc_auc_score(y_test, tf_idf_rf.predict_proba(tfidf_test)[:,1]))"
   ]
  },
  {
   "cell_type": "markdown",
   "metadata": {},
   "source": [
    "## Extra: Bootstrapping"
   ]
  },
  {
   "cell_type": "code",
   "execution_count": 198,
   "metadata": {},
   "outputs": [
    {
     "name": "stdout",
     "output_type": "stream",
     "text": [
      "Eredeti adatbázisban a sorok száma 5722\n",
      "Egyedi megfigyelések száma:\n",
      "author       2\n",
      "status    5714\n",
      "dtype: int64\n"
     ]
    }
   ],
   "source": [
    "accuracies=[]\n",
    "print(\"Eredeti adatbázisban a sorok száma\", tweet_df.shape[0])\n",
    "print(\"Egyedi megfigyelések száma:\\n\", tweet_df.nunique(), sep=\"\")\n",
    "\n",
    "for _ in range(1000):  # 1000-szer futtatjuk le a bootstrapet\n",
    "    \"\"\"\n",
    "    200 elemű bootstrap minta, ha szeretnéd módisítani a méretét, akkor itt tedd, az n=200 részt, \n",
    "    ha frac=0.9-et írsz be akkor 90%-os lesz a bootstrap minta, de egyszerre csak az egyik paramétert használd\n",
    "    \"\"\"\n",
    "    bs_df = tweet_df.sample(n=200, replace=True, axis=0)  \n",
    "    X_train, X_test, y_train, y_test = train_test_split(bs_df[\"status\"], bs_df[\"author\"], test_size=0.8, stratify=bs_df[\"author\"], random_state=42)\n",
    "    \n",
    "    tfidf_vectorizer = TfidfVectorizer(stop_words=\"english\", min_df=0.01, max_df=0.9)\n",
    "    tfidf_train = tfidf_vectorizer.fit_transform(X_train)\n",
    "    tfidf_test = tfidf_vectorizer.transform(X_test)\n",
    "    \n",
    "    bs_svm = LinearSVC(C=0.1, dual=\"auto\")\n",
    "    bs_svm.fit(tfidf_train, y_train)\n",
    "    accuracies.append(bs_svm.score(tfidf_test, y_test))    "
   ]
  },
  {
   "cell_type": "code",
   "execution_count": 200,
   "metadata": {},
   "outputs": [
    {
     "name": "stdout",
     "output_type": "stream",
     "text": [
      "95% confidence interval: 0.600 - 0.800\n",
      "Median: 0.700\n"
     ]
    },
    {
     "data": {
      "image/png": "[encoded data removed]",
      "text/plain": [
       "<Figure size 640x480 with 1 Axes>"
      ]
     },
     "metadata": {},
     "output_type": "display_data"
    }
   ],
   "source": [
    "# Create a histogram of the accuracies\n",
    "accuracies = np.array(accuracies)\n",
    "plt.hist(accuracies, bins=15)\n",
    "\n",
    "percentiles = np.percentile(accuracies, [2.5, 97.5])\n",
    "print(f\"95% confidence interval: {percentiles[0]:.3f} - {percentiles[1]:.3f}\")\n",
    "print(f\"Median: {np.median(accuracies):.3f}\")"
   ]
  }
 ],
 "metadata": {
  "kernelspec": {
   "display_name": "Python 3",
   "language": "python",
   "name": "python3"
  },
  "language_info": {
   "codemirror_mode": {
    "name": "ipython",
    "version": 3
   },
   "file_extension": ".py",
   "mimetype": "text/x-python",
   "name": "python",
   "nbconvert_exporter": "python",
   "pygments_lexer": "ipython3",
   "version": "3.11.3"
  }
 },
 "nbformat": 4,
 "nbformat_minor": 2
}
